{
 "cells": [
  {
   "cell_type": "code",
   "execution_count": null,
   "id": "85a58424",
   "metadata": {},
   "outputs": [],
   "source": [
    "import aie\n",
    "import numpy as np\n",
    "aie.Authenticate()\n",
    "aie.Initialize()\n",
    "#shp = aie.FeatureCollection('user/aad6292f07e0dd5c515324d55379db6c')\n",
    "shp=aie.FeatureCollection('user/73ff20df4e954b2c13fe9dce1f9155ec')\n",
    "#shp=aie.FeatureCollection('user/4f1514a0eff9c00f5d05d1ffa2e0d9e0')\n",
    "map = aie.Map(\n",
    "    center=shp.getCenter(),\n",
    "    height=800,\n",
    "    zoom=7\n",
    ")"
   ]
  },
  {
   "cell_type": "code",
   "execution_count": null,
   "id": "9c6b507f",
   "metadata": {},
   "outputs": [],
   "source": [
    "shp_vis  = {\n",
    "    'min': -0.2,\n",
    "    'max': 0.6,\n",
    "    'palette': ['#d7191c', '#fdae61', '#ffffc0', '#a6d96a', '#1a9641']\n",
    "}\n",
    "map.addLayer(\n",
    "    shp,\n",
    "    shp_vis,\n",
    "    '地图分割',\n",
    "    bounds=shp.getBounds()\n",
    ")\n",
    "map"
   ]
  },
  {
   "cell_type": "code",
   "execution_count": null,
   "id": "f5603a7f",
   "metadata": {},
   "outputs": [],
   "source": [
    "area_lst=shp.aggregate_array('area')\n",
    "area=np.array(area_lst.getInfo())\n",
    "print('建筑区总面积:',np.sum(area),'平方米')"
   ]
  }
 ],
 "metadata": {
  "kernelspec": {
   "display_name": "Python 3 (ipykernel)",
   "language": "python",
   "name": "python3"
  },
  "language_info": {
   "codemirror_mode": {
    "name": "ipython",
    "version": 3
   },
   "file_extension": ".py",
   "mimetype": "text/x-python",
   "name": "python",
   "nbconvert_exporter": "python",
   "pygments_lexer": "ipython3",
   "version": "3.8.8"
  }
 },
 "nbformat": 4,
 "nbformat_minor": 5
}
